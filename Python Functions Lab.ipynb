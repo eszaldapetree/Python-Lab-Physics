{
 "cells": [
  {
   "cell_type": "code",
   "execution_count": 2,
   "id": "18bdc7d1",
   "metadata": {},
   "outputs": [],
   "source": [
    "import numpy as np"
   ]
  },
  {
   "cell_type": "code",
   "execution_count": 52,
   "id": "d247be95",
   "metadata": {},
   "outputs": [],
   "source": [
    "def rule3(da,db):\n",
    "    dQ = np.sqrt((da**2)+(db**2))\n",
    "    return dQ"
   ]
  },
  {
   "cell_type": "code",
   "execution_count": 24,
   "id": "3fa3ff46",
   "metadata": {},
   "outputs": [],
   "source": [
    "def rule1(da,c):\n",
    "    dQ = np.abs(c)*da\n",
    "    return dQ"
   ]
  },
  {
   "cell_type": "code",
   "execution_count": 26,
   "id": "2da5c4d7",
   "metadata": {},
   "outputs": [],
   "source": [
    "def rule2(a,da,c,m):\n",
    "    dQ = np.abs(c*m*(A**(m-1)))*da\n",
    "    return dQ"
   ]
  },
  {
   "cell_type": "code",
   "execution_count": 41,
   "id": "30665e90",
   "metadata": {},
   "outputs": [],
   "source": [
    "def rule4(Q,da,a,db,b,n,m):\n",
    "    dQ = np.abs(Q)*(np.sqrt((m*((da/a)**2))+(n*((db/b)**2))))\n",
    "    return dQ"
   ]
  },
  {
   "cell_type": "code",
   "execution_count": 42,
   "id": "04a13fdf",
   "metadata": {},
   "outputs": [
    {
     "name": "stdout",
     "output_type": "stream",
     "text": [
      "0.015697115820671716\n"
     ]
    }
   ],
   "source": [
    "#recalculating inital velocity uncertainty for method 2\n",
    "\n",
    "Q = 3.53\n",
    "errx = 0.004\n",
    "x = 1.5703\n",
    "erry = 0.005\n",
    "y = 0.97\n",
    "m = 1\n",
    "n = 0.5\n",
    "\n",
    "errtotal = rule4(Q,errx,x,erry,y,n,m)\n",
    "\n",
    "print(errtotal)"
   ]
  },
  {
   "cell_type": "code",
   "execution_count": 43,
   "id": "ef958015",
   "metadata": {},
   "outputs": [
    {
     "data": {
      "text/plain": [
       "0.0026971158206717163"
      ]
     },
     "execution_count": 43,
     "metadata": {},
     "output_type": "execute_result"
    }
   ],
   "source": [
    "errtotal-0.013\n",
    "\n",
    "#calcluating by hand I got an uncertainty of the inital velocity of 0.013 but with this I got 0.016\n",
    "#which is a difference of ~0.003\n",
    "\n",
    "#Some of the difference may be because when I calculated by hand I used the unrounded values for the uncertainties\n",
    "#and the calculated veolcity, whereas the numbers I used in the function are rounded"
   ]
  },
  {
   "cell_type": "code",
   "execution_count": 51,
   "id": "336c3481",
   "metadata": {},
   "outputs": [
    {
     "name": "stdout",
     "output_type": "stream",
     "text": [
      "The standard deviation of the data set x is 0.17950549357115014\n",
      "The mean of the data set x is 1.1166666666666667\n"
     ]
    }
   ],
   "source": [
    "x = np.array([1.1,1.3,1.4,0.9,0.95,1.05])\n",
    "\n",
    "std_x = np.std(x)\n",
    "print(\"The standard deviation of the data set x is\",std_x)\n",
    "\n",
    "xmean = np.average(x)\n",
    "print(\"The mean of the data set x is\", xmean)"
   ]
  },
  {
   "cell_type": "markdown",
   "id": "084c0bdf",
   "metadata": {},
   "source": [
    "$\\delta Q = \\sqrt{(\\delta A)^2+(\\delta B)^2}$"
   ]
  },
  {
   "cell_type": "markdown",
   "id": "491a87fc",
   "metadata": {},
   "source": [
    "$\\delta v = v\\sqrt{(\\delta x/x)^2+(\\delta y/2y)^2)}$"
   ]
  }
 ],
 "metadata": {
  "kernelspec": {
   "display_name": "Python 3",
   "language": "python",
   "name": "python3"
  },
  "language_info": {
   "codemirror_mode": {
    "name": "ipython",
    "version": 3
   },
   "file_extension": ".py",
   "mimetype": "text/x-python",
   "name": "python",
   "nbconvert_exporter": "python",
   "pygments_lexer": "ipython3",
   "version": "3.8.8"
  }
 },
 "nbformat": 4,
 "nbformat_minor": 5
}
